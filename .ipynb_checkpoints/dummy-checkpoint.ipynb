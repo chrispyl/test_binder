{
 "cells": [
  {
   "cell_type": "markdown",
   "id": "3809ca17",
   "metadata": {},
   "source": [
    "## Test spark"
   ]
  },
  {
   "cell_type": "code",
   "execution_count": null,
   "id": "a737341b",
   "metadata": {},
   "outputs": [],
   "source": [
    "from pyspark.sql import SparkSession\n",
    "import psutil\n",
    "import numpy\n",
    "import pandas as pd\n",
    "\n",
    "logical_threads = int(psutil.cpu_count(logical=True))\n",
    "available_memory = int(psutil.virtual_memory().available / 1000000000)\n",
    "driver_memory = 2\n",
    "memory_per_executor = int((available_memory - driver_memory ) / logical_threads * 1000)\n",
    "\n",
    "spark = SparkSession.builder.master('local[' + str(logical_threads) + ']')\\\n",
    "        .config('spark.driver.memory', str(driver_memory) + 'g')\\\n",
    "        .config('spark.executor.memory', str(memory_per_executor) + 'm')\\\n",
    "        .getOrCreate()\n",
    "\n",
    "sc = spark.sparkContext\n",
    "num_samples = 100000000\n",
    "def inside(p):     \n",
    "  x, y = random.random(), random.random()\n",
    "  return x*x + y*y < 1\n",
    "count = sc.parallelize(range(0, num_samples)).filter(inside).count()\n",
    "pi = 4 * count / num_samples\n",
    "print(pi)"
   ]
  },
  {
   "cell_type": "markdown",
   "id": "663acccc",
   "metadata": {},
   "source": [
    "## Stop spark context"
   ]
  },
  {
   "cell_type": "code",
   "execution_count": null,
   "id": "5cf29971",
   "metadata": {},
   "outputs": [],
   "source": [
    "sc.stop()"
   ]
  },
  {
   "cell_type": "markdown",
   "id": "97b9274d",
   "metadata": {},
   "source": [
    "## Test read from dataset"
   ]
  },
  {
   "cell_type": "code",
   "execution_count": null,
   "id": "e67e6a7a",
   "metadata": {},
   "outputs": [],
   "source": [
    "df = pd.read_csv('datasets/dataset_1.csv')\n",
    "df"
   ]
  }
 ],
 "metadata": {
  "kernelspec": {
   "display_name": "Python 3",
   "language": "python",
   "name": "python3"
  },
  "language_info": {
   "codemirror_mode": {
    "name": "ipython",
    "version": 3
   },
   "file_extension": ".py",
   "mimetype": "text/x-python",
   "name": "python",
   "nbconvert_exporter": "python",
   "pygments_lexer": "ipython3",
   "version": "3.8.8"
  }
 },
 "nbformat": 4,
 "nbformat_minor": 5
}
